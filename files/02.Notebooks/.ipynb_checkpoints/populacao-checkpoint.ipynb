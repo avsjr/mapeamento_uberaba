{
 "cells": [
  {
   "cell_type": "code",
   "execution_count": 2,
   "id": "ba320676-e3cd-4dc1-ad6b-a27e1be173eb",
   "metadata": {},
   "outputs": [],
   "source": [
    "import geopandas as gpd\n",
    "import pandas as pd\n",
    "import folium"
   ]
  },
  {
   "cell_type": "code",
   "execution_count": 3,
   "id": "680c0b5d-6265-4e7e-8db7-5863a305092f",
   "metadata": {},
   "outputs": [],
   "source": [
    "# Carregue o arquivo GeoJSON com as geometrias dos bairros\n",
    "upg = 'c:/Users/avsj/iCloudDrive/01.Antonio/01.Projetos/eleicoes/UPG.geojson'\n",
    "upg_gdf = gpd.read_file(upg)"
   ]
  },
  {
   "cell_type": "code",
   "execution_count": 16,
   "id": "f90bed7a-2af8-49cb-b537-9dc54e1d92c4",
   "metadata": {},
   "outputs": [],
   "source": [
    "# Carregue o arquivo excel com informações da população por bairro\n",
    "populacao = 'c:/Users/avsj/iCloudDrive/01.Antonio/01.Projetos/eleicoes/UPG_UBERABA.xlsx'\n",
    "populacao_xls = pd.read_excel(populacao)"
   ]
  },
  {
   "cell_type": "code",
   "execution_count": 17,
   "id": "213e03c3-5b07-410d-a9bd-adc116e75cdc",
   "metadata": {},
   "outputs": [],
   "source": [
    "# Mesclar os dataframes com base no nome do bairro\n",
    "merged_df = pd.merge(upg_gdf, populacao_xls, how='inner', left_on='name', right_on='UPG')"
   ]
  },
  {
   "cell_type": "code",
   "execution_count": 18,
   "id": "a8b4fefd-cb77-4910-9d9a-f99e210d222d",
   "metadata": {},
   "outputs": [
    {
     "name": "stdout",
     "output_type": "stream",
     "text": [
      "                           name visibility  tessellate description  \\\n",
      "0                        VALLIM       None        True        None   \n",
      "1              RESIDENCIAL 2000       None        True        None   \n",
      "2                   SANTA CLARA       None        True        None   \n",
      "3                 SÃO CRISTÓVÃO       None        True        None   \n",
      "4                PARQUE DO CAFÉ       None        True        None   \n",
      "5      RECREIO DOS BANDEIRANTES       None        True        None   \n",
      "6                      MARACANÃ       None        True        None   \n",
      "7                       PARAÍSO       None        True        None   \n",
      "8                 SANTA CECÍLIA       None        True        None   \n",
      "9                   COSTA TELES       None        True        None   \n",
      "10                      LOURDES       None        True        None   \n",
      "11          PARQUE DAS AMÉRICAS       None        True        None   \n",
      "12                BOA ESPERANÇA       None        True        None   \n",
      "13             GRANDE HORIZONTE       None        True        None   \n",
      "14                    AEROPORTO       None        True        None   \n",
      "15                       MERCÊS       None        True        None   \n",
      "16                  SANTA MARIA       None        True        None   \n",
      "17                       CENTRO       None        True        None   \n",
      "18                 SÃO BENEDITO       None        True        None   \n",
      "19                       LEBLON       None        True        None   \n",
      "20                       ABADIA       None        True        None   \n",
      "21               ESTADOS UNIDOS       None        True        None   \n",
      "22                  SÃO GERALDO       None        True        None   \n",
      "23                    VILA REAL       None        True        None   \n",
      "24                  JOCKEY PARK       None        True        None   \n",
      "25           PARQUE TECNOLÓGICO       None        True        None   \n",
      "26               ALFREDO FREIRE       None        True        None   \n",
      "27                       MARAJÓ       None        True        None   \n",
      "28                       BURITI       None        True        None   \n",
      "29                      MORUMBI       None        True        None   \n",
      "30                      LAGEADO       None        True        None   \n",
      "31                    BOA VISTA       None        True        None   \n",
      "32                AMOROSO COSTA       None        True        None   \n",
      "33                     FABRÍCIO       None        True        None   \n",
      "34                 BOUGAINVILLE       None        True        None   \n",
      "35       DISTRITO INDUSTRIAL II       None        True        None   \n",
      "36                    DEA MARIA       None        True        None   \n",
      "37                     SERRARIA       None        True        None   \n",
      "38      DISTRITO INDUSTRIAL III       None        True        None   \n",
      "39                   PEIRÓPOLIS       None        True        None   \n",
      "40                     SANTA FÉ       None        True        None   \n",
      "41        CAPELINHA DO BARREIRO       None        True        None   \n",
      "42                        BAIXA       None        True        None   \n",
      "43                   PONTE ALTA       None        True        None   \n",
      "44                  SÃO BASÍLIO       None        True        None   \n",
      "45  CHÁCARAS PRAIA DO RIO CLARO       None        True        None   \n",
      "\n",
      "                                             geometry  \\\n",
      "0   POLYGON Z ((-47.90515 -19.78093 -9.26500, -47....   \n",
      "1   POLYGON Z ((-47.85290 -19.77254 -9.31300, -47....   \n",
      "2   POLYGON Z ((-47.89016 -19.79132 -9.26800, -47....   \n",
      "3   POLYGON Z ((-47.92322 -19.77272 -9.25900, -47....   \n",
      "4   POLYGON Z ((-47.83183 -19.76491 -9.33600, -47....   \n",
      "5   POLYGON Z ((-47.92930 -19.78817 -9.24000, -47....   \n",
      "6   POLYGON Z ((-47.91921 -19.78172 -9.25400, -47....   \n",
      "7   POLYGON Z ((-47.88349 -19.74359 -9.31600, -47....   \n",
      "8   POLYGON Z ((-47.90535 -19.80271 -9.24500, -47....   \n",
      "9   POLYGON Z ((-47.90461 -19.75865 -9.28600, -47....   \n",
      "10  POLYGON Z ((-47.88649 -19.76561 -9.29400, -47....   \n",
      "11  POLYGON Z ((-47.96203 -19.77143 -9.23000, -47....   \n",
      "12  POLYGON Z ((-47.91582 -19.73896 -9.29500, -47....   \n",
      "13  POLYGON Z ((-47.96288 -19.73360 -9.26400, -47....   \n",
      "14  POLYGON Z ((-47.96508 -19.75653 -9.24200, -47....   \n",
      "15  POLYGON Z ((-47.93996 -19.74299 -9.27300, -47....   \n",
      "16  POLYGON Z ((-47.94861 -19.75859 -9.25200, -47....   \n",
      "17  POLYGON Z ((-47.93097 -19.74710 -9.27600, -47....   \n",
      "18  POLYGON Z ((-47.93409 -19.75475 -9.26700, -47....   \n",
      "19  POLYGON Z ((-47.92484 -19.76598 -9.26400, -47....   \n",
      "20  POLYGON Z ((-47.91365 -19.75642 -9.28100, -47....   \n",
      "21  POLYGON Z ((-47.90419 -19.74693 -9.29700, -47....   \n",
      "22  POLYGON Z ((-47.94396 -19.78578 -9.23100, -47....   \n",
      "23  POLYGON Z ((-48.00190 -19.80792 -9.16700, -48....   \n",
      "24  POLYGON Z ((-47.99335 -19.76571 -9.21200, -47....   \n",
      "25  POLYGON Z ((-47.94351 -19.71125 -9.29900, -47....   \n",
      "26  POLYGON Z ((-47.98129 -19.72763 -9.25600, -47....   \n",
      "27  POLYGON Z ((-47.99268 -19.73722 -9.23800, -47....   \n",
      "28  POLYGON Z ((-48.00021 -19.78012 -9.19300, -47....   \n",
      "29  POLYGON Z ((-47.98201 -19.75089 -9.23400, -47....   \n",
      "30  POLYGON Z ((-47.88663 -19.70482 -9.34900, -47....   \n",
      "31  POLYGON Z ((-47.90014 -19.72689 -9.31800, -47....   \n",
      "32  POLYGON Z ((-47.88383 -19.72436 -9.33300, -47....   \n",
      "33  POLYGON Z ((-47.92855 -19.73177 -9.29200, -47....   \n",
      "34  POLYGON Z ((-47.95782 -19.69783 -9.30100, -47....   \n",
      "35  POLYGON Z ((-47.96113 -19.69298 -9.30200, -47....   \n",
      "36  POLYGON Z ((-47.98409 -19.70775 0.00000, -47.9...   \n",
      "37  POLYGON Z ((-47.89478 -20.10545 0.00000, -47.8...   \n",
      "38  POLYGON Z ((-47.85136 -19.98743 -9.11900, -47....   \n",
      "39  POLYGON Z ((-47.75912 -19.74428 -9.41100, -47....   \n",
      "40  POLYGON Z ((-47.76450 -19.55302 -9.58000, -47....   \n",
      "41  POLYGON Z ((-48.17194 -19.79914 -9.04400, -48....   \n",
      "42  POLYGON Z ((-47.95025 -19.93917 -9.08700, -47....   \n",
      "43  POLYGON Z ((-47.64929 -19.69282 -9.54100, -47....   \n",
      "44  POLYGON Z ((-47.59784 -19.62699 -9.64100, -47....   \n",
      "45  POLYGON Z ((-47.73736 -19.54705 -9.60700, -47....   \n",
      "\n",
      "                            UPG  POPULACAO_TOTAL  HOMENS  MULHERES Unnamed: 4  \n",
      "0                        VALLIM            12619    6213      6406        NaN  \n",
      "1              RESIDENCIAL 2000             6311    3093      3218        NaN  \n",
      "2                   SANTA CLARA             5051    2457      2594        NaN  \n",
      "3                 SÃO CRISTÓVÃO             5815    2824      2991        NaN  \n",
      "4                PARQUE DO CAFÉ               78      43        35      RURAL  \n",
      "5      RECREIO DOS BANDEIRANTES             6037    2877      3160        NaN  \n",
      "6                      MARACANÃ             9315    4553      4762        NaN  \n",
      "7                       PARAÍSO            25314   12583     12731        NaN  \n",
      "8                 SANTA CECÍLIA             6425    2919      3506        NaN  \n",
      "9                   COSTA TELES            13898    6754      7144        NaN  \n",
      "10                      LOURDES            10251    5024      5227        NaN  \n",
      "11          PARQUE DAS AMÉRICAS            13392    6493      6899        NaN  \n",
      "12                BOA ESPERANÇA             3654    1687      1967        NaN  \n",
      "13             GRANDE HORIZONTE            11026    5306      5720        NaN  \n",
      "14                    AEROPORTO             9208    4462      4746        NaN  \n",
      "15                       MERCÊS            11005    5102      5903        NaN  \n",
      "16                  SANTA MARIA            12633    5957      6676        NaN  \n",
      "17                       CENTRO             5074    2173      2901        NaN  \n",
      "18                 SÃO BENEDITO            10524    4746      5778        NaN  \n",
      "19                       LEBLON             8370    3954      4416        NaN  \n",
      "20                       ABADIA            14981    6997      7984        NaN  \n",
      "21               ESTADOS UNIDOS            17124    7830      9294        NaN  \n",
      "22                  SÃO GERALDO             3950    2025      1925        NaN  \n",
      "23                    VILA REAL              146      80        66        NaN  \n",
      "24                  JOCKEY PARK             7909    3847      4062        NaN  \n",
      "25           PARQUE TECNOLÓGICO               69      36        33        NaN  \n",
      "26               ALFREDO FREIRE             6742    3355      3387        NaN  \n",
      "27                       MARAJÓ             8761    4158      4603        NaN  \n",
      "28                       BURITI             3387    1558      1829        NaN  \n",
      "29                      MORUMBI            17447    8521      8926        NaN  \n",
      "30                      LAGEADO              220     119       101        NaN  \n",
      "31                    BOA VISTA            22671   10859     11812        NaN  \n",
      "32                AMOROSO COSTA            10887    5352      5535        NaN  \n",
      "33                     FABRÍCIO            16966    8047      8919        NaN  \n",
      "34                 BOUGAINVILLE              154      79        75        NaN  \n",
      "35       DISTRITO INDUSTRIAL II                6       4         2        NaN  \n",
      "36                    DEA MARIA               24       9        15        NaN  \n",
      "37                     SERRARIA               37      21        16        NaN  \n",
      "38      DISTRITO INDUSTRIAL III               55      26        29        NaN  \n",
      "39                   PEIRÓPOLIS              107      53        54        NaN  \n",
      "40                     SANTA FÉ              659     354       305      RURAL  \n",
      "41        CAPELINHA DO BARREIRO              237     129       108        NaN  \n",
      "42                        BAIXA              113      55        58        NaN  \n",
      "43                   PONTE ALTA             1677     830       847        NaN  \n",
      "44                  SÃO BASÍLIO              413     226       187      RURAL  \n",
      "45  CHÁCARAS PRAIA DO RIO CLARO               40      24        16        NaN  \n"
     ]
    }
   ],
   "source": [
    "print(merged_df)"
   ]
  },
  {
   "cell_type": "code",
   "execution_count": 19,
   "id": "ba6beeb4-bf79-4bac-828e-95490759c55f",
   "metadata": {},
   "outputs": [],
   "source": [
    "# Criar um mapa com base nas coordenadas do primeiro bairro (ou ajustar conforme necessário)\n",
    "m = folium.Map(location=[merged_df.iloc[0]['geometry'].centroid.y, merged_df.iloc[0]['geometry'].centroid.x], zoom_start=12)"
   ]
  },
  {
   "cell_type": "code",
   "execution_count": 20,
   "id": "ddbefdab-7003-4165-b42d-e6c08a46b861",
   "metadata": {},
   "outputs": [],
   "source": [
    "# Adicionar as fronteiras dos bairros (territórios) com base na população\n",
    "folium.Choropleth(\n",
    "    geo_data=merged_df,\n",
    "    name='População por Bairro',\n",
    "    data=merged_df,\n",
    "    columns=['UPG', 'POPULACAO_TOTAL'],\n",
    "    key_on='feature.properties.UPG',\n",
    "    fill_color='YlGn',\n",
    "    fill_opacity=0.5,\n",
    "    line_opacity=0.2,\n",
    "    legend_name='População por Bairro',\n",
    "    highlight=True,\n",
    ").add_to(m)\n",
    "\n",
    "# Adicionar rótulos dos bairros\n",
    "for idx, row in merged_df.iterrows():\n",
    "    folium.Marker(\n",
    "        location=[row['geometry'].centroid.y, row['geometry'].centroid.x],\n",
    "        popup=f\"{row['UPG']} - População Total: {row['POPULACAO_TOTAL']}, Homens: {row['HOMENS']}, Mulheres: {row['MULHERES']}\",\n",
    "        icon=folium.Icon(color='blue')\n",
    "    ).add_to(m)"
   ]
  },
  {
   "cell_type": "code",
   "execution_count": 21,
   "id": "ca06a253-c30e-4886-ae95-5a5a120ef6b8",
   "metadata": {},
   "outputs": [
    {
     "data": {
      "text/plain": [
       "<folium.map.LayerControl at 0x214c52f6750>"
      ]
     },
     "execution_count": 21,
     "metadata": {},
     "output_type": "execute_result"
    }
   ],
   "source": [
    "# Adicione um controle de camadas (layers control)\n",
    "folium.LayerControl().add_to(m)"
   ]
  },
  {
   "cell_type": "code",
   "execution_count": 22,
   "id": "9f67ff43-c448-4c06-a999-f2a11266875a",
   "metadata": {},
   "outputs": [],
   "source": [
    "# Salve o mapa em um arquivo HTML\n",
    "m.save('index.html')"
   ]
  },
  {
   "cell_type": "code",
   "execution_count": null,
   "id": "00169e60-8465-4638-8dce-f1448a40ab30",
   "metadata": {},
   "outputs": [],
   "source": []
  }
 ],
 "metadata": {
  "kernelspec": {
   "display_name": "Python 3 (ipykernel)",
   "language": "python",
   "name": "python3"
  },
  "language_info": {
   "codemirror_mode": {
    "name": "ipython",
    "version": 3
   },
   "file_extension": ".py",
   "mimetype": "text/x-python",
   "name": "python",
   "nbconvert_exporter": "python",
   "pygments_lexer": "ipython3",
   "version": "3.12.1"
  }
 },
 "nbformat": 4,
 "nbformat_minor": 5
}
