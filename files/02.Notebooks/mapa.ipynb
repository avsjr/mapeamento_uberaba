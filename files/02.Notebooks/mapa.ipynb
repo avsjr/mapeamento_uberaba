{
 "cells": [
  {
   "cell_type": "code",
   "execution_count": null,
   "id": "ba320676-e3cd-4dc1-ad6b-a27e1be173eb",
   "metadata": {},
   "outputs": [],
   "source": [
    "import geopandas as gpd\n",
    "import pandas as pd\n",
    "import folium"
   ]
  },
  {
   "cell_type": "code",
   "execution_count": null,
   "id": "680c0b5d-6265-4e7e-8db7-5863a305092f",
   "metadata": {},
   "outputs": [],
   "source": [
    "# Carregue o arquivo GeoJSON com as geometrias dos bairros\n",
    "upg = 'c:/Users/avsj/iCloudDrive/01.Antonio/01.Projetos/eleicoes/UPG.geojson'\n",
    "upg_gdf = gpd.read_file(upg)"
   ]
  },
  {
   "cell_type": "code",
   "execution_count": null,
   "id": "f90bed7a-2af8-49cb-b537-9dc54e1d92c4",
   "metadata": {},
   "outputs": [],
   "source": [
    "# Carregue o arquivo excel com informações da população por bairro\n",
    "populacao = 'c:/Users/avsj/iCloudDrive/01.Antonio/01.Projetos/eleicoes/UPG_UBERABA.xlsx'\n",
    "populacao_xls = pd.read_excel(populacao)"
   ]
  },
  {
   "cell_type": "code",
   "execution_count": null,
   "id": "213e03c3-5b07-410d-a9bd-adc116e75cdc",
   "metadata": {},
   "outputs": [],
   "source": [
    "# Mesclar os dataframes com base no nome do bairro\n",
    "merged_df = pd.merge(upg_gdf, populacao_xls, how='inner', left_on='name', right_on='UPG')"
   ]
  },
  {
   "cell_type": "code",
   "execution_count": null,
   "id": "a8b4fefd-cb77-4910-9d9a-f99e210d222d",
   "metadata": {},
   "outputs": [],
   "source": [
    "print(merged_df)"
   ]
  },
  {
   "cell_type": "code",
   "execution_count": null,
   "id": "ba6beeb4-bf79-4bac-828e-95490759c55f",
   "metadata": {},
   "outputs": [],
   "source": [
    "# Criar um mapa com base nas coordenadas do primeiro bairro (ou ajustar conforme necessário)\n",
    "m = folium.Map(location=[merged_df.iloc[0]['geometry'].centroid.y, merged_df.iloc[0]['geometry'].centroid.x], zoom_start=12)"
   ]
  },
  {
   "cell_type": "code",
   "execution_count": null,
   "id": "ddbefdab-7003-4165-b42d-e6c08a46b861",
   "metadata": {},
   "outputs": [],
   "source": [
    "# Adicionar as fronteiras dos bairros (territórios) com base na população\n",
    "folium.Choropleth(\n",
    "    geo_data=merged_df,\n",
    "    name='População por Bairro',\n",
    "    data=merged_df,\n",
    "    columns=['UPG', 'POPULACAO_TOTAL'],\n",
    "    key_on='feature.properties.UPG',\n",
    "    fill_color='YlGn',\n",
    "    fill_opacity=0.5,\n",
    "    line_opacity=0.2,\n",
    "    legend_name='População por Bairro',\n",
    "    highlight=True,\n",
    ").add_to(m)\n",
    "\n",
    "# Adicionar rótulos dos bairros\n",
    "for idx, row in merged_df.iterrows():\n",
    "    folium.Marker(\n",
    "        location=[row['geometry'].centroid.y, row['geometry'].centroid.x],\n",
    "        popup=f\"{row['UPG']} - População Total: {row['POPULACAO_TOTAL']}, Homens: {row['HOMENS']}, Mulheres: {row['MULHERES']}\",\n",
    "        icon=folium.Icon(color='blue')\n",
    "    ).add_to(m)"
   ]
  },
  {
   "cell_type": "code",
   "execution_count": null,
   "id": "ca06a253-c30e-4886-ae95-5a5a120ef6b8",
   "metadata": {},
   "outputs": [],
   "source": [
    "# Adicione um controle de camadas (layers control)\n",
    "folium.LayerControl().add_to(m)"
   ]
  },
  {
   "cell_type": "code",
   "execution_count": null,
   "id": "9f67ff43-c448-4c06-a999-f2a11266875a",
   "metadata": {},
   "outputs": [],
   "source": [
    "# Salve o mapa em um arquivo HTML\n",
    "m.save('mapa.html')"
   ]
  },
  {
   "cell_type": "code",
   "execution_count": null,
   "id": "00169e60-8465-4638-8dce-f1448a40ab30",
   "metadata": {},
   "outputs": [],
   "source": []
  }
 ],
 "metadata": {
  "kernelspec": {
   "display_name": "Python 3 (ipykernel)",
   "language": "python",
   "name": "python3"
  },
  "language_info": {
   "codemirror_mode": {
    "name": "ipython",
    "version": 3
   },
   "file_extension": ".py",
   "mimetype": "text/x-python",
   "name": "python",
   "nbconvert_exporter": "python",
   "pygments_lexer": "ipython3",
   "version": "3.12.2"
  }
 },
 "nbformat": 4,
 "nbformat_minor": 5
}
