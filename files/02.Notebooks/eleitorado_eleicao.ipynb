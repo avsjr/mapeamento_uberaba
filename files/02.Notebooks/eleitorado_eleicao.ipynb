{
 "cells": [
  {
   "cell_type": "code",
   "execution_count": null,
   "id": "19adea73-04ed-4772-a6af-d910307d58ff",
   "metadata": {},
   "outputs": [],
   "source": [
    "import pandas as pd"
   ]
  },
  {
   "cell_type": "code",
   "execution_count": null,
   "id": "f04a62f1-687d-43b7-9074-9b0edbf9a734",
   "metadata": {},
   "outputs": [],
   "source": [
    "df = pd.read_csv('c:/Users/avsj/iCloudDrive/01.Antonio/01.Projetos/eleicoes/01.Datasets/votacao_partido.csv', sep=';', encoding='ISO-8859-1')"
   ]
  },
  {
   "cell_type": "code",
   "execution_count": null,
   "id": "2b6a65e3-0b18-4a45-b185-efa4697ca64c",
   "metadata": {},
   "outputs": [],
   "source": [
    "print(df.columns)"
   ]
  },
  {
   "cell_type": "code",
   "execution_count": null,
   "id": "ed0730e9-7d2a-4302-93b7-cd0fdc5a3791",
   "metadata": {},
   "outputs": [],
   "source": [
    "print(df.head())"
   ]
  },
  {
   "cell_type": "code",
   "execution_count": null,
   "id": "5546a05b-0b58-4a10-92b6-6e3d23d51212",
   "metadata": {},
   "outputs": [],
   "source": [
    "uberaba_df = df[(df['UF'] == 'MG') & (df['Zona'].isin([276, 326, 347]))]"
   ]
  },
  {
   "cell_type": "code",
   "execution_count": null,
   "id": "a61f0a75-e031-4398-a161-e66be83cc2a7",
   "metadata": {},
   "outputs": [],
   "source": [
    "print(uberaba_df)"
   ]
  },
  {
   "cell_type": "code",
   "execution_count": null,
   "id": "3dc3bb43-77d5-4228-8e9e-f12b8059dafe",
   "metadata": {},
   "outputs": [],
   "source": [
    "uberaba_df.to_excel('votacao_partido_filtrado.xlsx', index=False)"
   ]
  },
  {
   "cell_type": "raw",
   "id": "36457101-8471-489a-8d0a-f9713e4192b1",
   "metadata": {},
   "source": [
    "--------------------------------------------------"
   ]
  },
  {
   "cell_type": "code",
   "execution_count": null,
   "id": "f50a32c4-12af-4df1-8f33-0391d9975321",
   "metadata": {},
   "outputs": [],
   "source": [
    "import chardet"
   ]
  },
  {
   "cell_type": "code",
   "execution_count": null,
   "id": "8675acac-6d48-471c-a14e-8879544aabbf",
   "metadata": {},
   "outputs": [],
   "source": [
    "# descobrir qual tipo de encoding do documento\n",
    "with open('c:/Users/avsj/iCloudDrive/01.Antonio/01.Projetos/eleicoes/01.Datasets/votacao_partido.csv', 'rb') as f:\n",
    "    result = chardet.detect(f.read())\n",
    "\n",
    "encoding = result['encoding']"
   ]
  },
  {
   "cell_type": "code",
   "execution_count": null,
   "id": "ee1552b9-7851-4c9a-88fe-d135c1010a95",
   "metadata": {},
   "outputs": [],
   "source": [
    "print(encoding)"
   ]
  }
 ],
 "metadata": {
  "kernelspec": {
   "display_name": "Python 3 (ipykernel)",
   "language": "python",
   "name": "python3"
  },
  "language_info": {
   "codemirror_mode": {
    "name": "ipython",
    "version": 3
   },
   "file_extension": ".py",
   "mimetype": "text/x-python",
   "name": "python",
   "nbconvert_exporter": "python",
   "pygments_lexer": "ipython3",
   "version": "3.12.1"
  }
 },
 "nbformat": 4,
 "nbformat_minor": 5
}
