{
 "cells": [
  {
   "cell_type": "code",
   "execution_count": 1,
   "id": "19adea73-04ed-4772-a6af-d910307d58ff",
   "metadata": {},
   "outputs": [],
   "source": [
    "import pandas as pd"
   ]
  },
  {
   "cell_type": "code",
   "execution_count": 2,
   "id": "f04a62f1-687d-43b7-9074-9b0edbf9a734",
   "metadata": {},
   "outputs": [],
   "source": [
    "df = pd.read_csv('c:/Users/avsj/iCloudDrive/01.Antonio/01.Projetos/eleicoes/01.Datasets/popu_resid_sexo_sit_domicilio.csv', sep=';', skiprows=4)"
   ]
  },
  {
   "cell_type": "code",
   "execution_count": 3,
   "id": "2b6a65e3-0b18-4a45-b185-efa4697ca64c",
   "metadata": {},
   "outputs": [
    {
     "name": "stdout",
     "output_type": "stream",
     "text": [
      "Index(['Distrito, Bairro e Subdistrito', 'Situação do domicílio', 'Total',\n",
      "       'Homens', 'Mulheres'],\n",
      "      dtype='object')\n"
     ]
    }
   ],
   "source": [
    "print(df.columns)"
   ]
  },
  {
   "cell_type": "code",
   "execution_count": 4,
   "id": "ed0730e9-7d2a-4302-93b7-cd0fdc5a3791",
   "metadata": {},
   "outputs": [
    {
     "name": "stdout",
     "output_type": "stream",
     "text": [
      "                           Distrito, Bairro e Subdistrito  \\\n",
      "0       Alta Floresta D'Oeste - Alta Floresta D'Oeste ...   \n",
      "1       Alta Floresta D'Oeste - Alta Floresta D'Oeste ...   \n",
      "2       Alta Floresta D'Oeste - Alta Floresta D'Oeste ...   \n",
      "3         Filadélfia d'Oeste - Alta Floresta D'Oeste (RO)   \n",
      "4         Filadélfia d'Oeste - Alta Floresta D'Oeste (RO)   \n",
      "...                                                   ...   \n",
      "157376                                                  0   \n",
      "157377                                                  X   \n",
      "157378                                                 ..   \n",
      "157379                                                ...   \n",
      "157380                                  A a Z\\n(exceto X)   \n",
      "\n",
      "                                    Situação do domicílio  Total Homens  \\\n",
      "0                                                   Total  18667   9526   \n",
      "1                                                  Urbana  13013   6479   \n",
      "2                                                   Rural   5654   3047   \n",
      "3                                                   Total    687    369   \n",
      "4                                                  Urbana    106     53   \n",
      "...                                                   ...    ...    ...   \n",
      "157376  Zero resultante de um cálculo ou arredondament...    NaN    NaN   \n",
      "157377  Valor inibido para não identificar o informant...    NaN    NaN   \n",
      "157378  Valor não se aplica.\\nEx: Não se pode obter o ...    NaN    NaN   \n",
      "157379  Valor não disponível.\\nEx: A produção de feijã...    NaN    NaN   \n",
      "157380  Significa uma faixa de valores. Varia em funçã...    NaN    NaN   \n",
      "\n",
      "       Mulheres  \n",
      "0          9141  \n",
      "1          6534  \n",
      "2          2607  \n",
      "3           318  \n",
      "4            53  \n",
      "...         ...  \n",
      "157376      NaN  \n",
      "157377      NaN  \n",
      "157378      NaN  \n",
      "157379      NaN  \n",
      "157380      NaN  \n",
      "\n",
      "[157381 rows x 5 columns]\n"
     ]
    }
   ],
   "source": [
    "print(df)"
   ]
  },
  {
   "cell_type": "code",
   "execution_count": 5,
   "id": "5546a05b-0b58-4a10-92b6-6e3d23d51212",
   "metadata": {},
   "outputs": [],
   "source": [
    "uberaba_df = df[df[('Distrito, Bairro e Subdistrito')].str.contains('Uberaba', na=False)]"
   ]
  },
  {
   "cell_type": "code",
   "execution_count": 6,
   "id": "a61f0a75-e031-4398-a161-e66be83cc2a7",
   "metadata": {},
   "outputs": [
    {
     "name": "stdout",
     "output_type": "stream",
     "text": [
      "            Distrito, Bairro e Subdistrito Situação do domicílio   Total  \\\n",
      "17256               Uberaba - Uberaba (MG)                 Total  295988   \n",
      "17257               Uberaba - Uberaba (MG)                Urbana  289376   \n",
      "17258               Uberaba - Uberaba (MG)                 Rural    6612   \n",
      "17259                 Baixa - Uberaba (MG)                 Total     ...   \n",
      "17260                 Baixa - Uberaba (MG)                Urbana     ...   \n",
      "...                                    ...                   ...     ...   \n",
      "112960  Vila Real - Uberaba - Uberaba (MG)                Urbana  100,00   \n",
      "112961  Vila Real - Uberaba - Uberaba (MG)                 Rural       -   \n",
      "141888             Uberaba - Curitiba (PR)                 Total  100,00   \n",
      "141889             Uberaba - Curitiba (PR)                Urbana  100,00   \n",
      "141890             Uberaba - Curitiba (PR)                 Rural       -   \n",
      "\n",
      "        Homens Mulheres  \n",
      "17256   144461   151527  \n",
      "17257   140640   148736  \n",
      "17258     3821     2791  \n",
      "17259      ...      ...  \n",
      "17260      ...      ...  \n",
      "...        ...      ...  \n",
      "112960   55,19    44,81  \n",
      "112961       -        -  \n",
      "141888   48,52    51,48  \n",
      "141889   48,52    51,48  \n",
      "141890       -        -  \n",
      "\n",
      "[240 rows x 5 columns]\n"
     ]
    }
   ],
   "source": [
    "print(uberaba_df)"
   ]
  },
  {
   "cell_type": "code",
   "execution_count": 7,
   "id": "3dc3bb43-77d5-4228-8e9e-f12b8059dafe",
   "metadata": {},
   "outputs": [],
   "source": [
    "uberaba_df.to_excel('uberaba_filtered_data.xlsx', index=False)"
   ]
  },
  {
   "cell_type": "code",
   "execution_count": null,
   "id": "f50a32c4-12af-4df1-8f33-0391d9975321",
   "metadata": {},
   "outputs": [],
   "source": []
  }
 ],
 "metadata": {
  "kernelspec": {
   "display_name": "Python 3 (ipykernel)",
   "language": "python",
   "name": "python3"
  },
  "language_info": {
   "codemirror_mode": {
    "name": "ipython",
    "version": 3
   },
   "file_extension": ".py",
   "mimetype": "text/x-python",
   "name": "python",
   "nbconvert_exporter": "python",
   "pygments_lexer": "ipython3",
   "version": "3.12.1"
  }
 },
 "nbformat": 4,
 "nbformat_minor": 5
}
